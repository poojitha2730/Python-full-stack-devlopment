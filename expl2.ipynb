{
  "nbformat": 4,
  "nbformat_minor": 0,
  "metadata": {
    "colab": {
      "name": "Untitled1.ipynb",
      "provenance": [],
      "authorship_tag": "ABX9TyNOQDoTpv2nCLstWFqcB45M",
      "include_colab_link": true
    },
    "kernelspec": {
      "name": "python3",
      "display_name": "Python 3"
    },
    "language_info": {
      "name": "python"
    }
  },
  "cells": [
    {
      "cell_type": "markdown",
      "metadata": {
        "id": "view-in-github",
        "colab_type": "text"
      },
      "source": [
        "<a href=\"https://colab.research.google.com/github/poojitha2730/Python-full-stack-devlopment/blob/main/expl2.ipynb\" target=\"_parent\"><img src=\"https://colab.research.google.com/assets/colab-badge.svg\" alt=\"Open In Colab\"/></a>"
      ]
    },
    {
      "cell_type": "code",
      "execution_count": 2,
      "metadata": {
        "colab": {
          "base_uri": "https://localhost:8080/"
        },
        "id": "D_nfFB1Y-Iu-",
        "outputId": "76b8f8b8-c447-4831-8040-22ecad6243af"
      },
      "outputs": [
        {
          "output_type": "stream",
          "name": "stdout",
          "text": [
            "{'python': 50, 'c': 40, 'java': 30}\n",
            "50\n",
            "30\n",
            "40\n"
          ]
        }
      ],
      "source": [
        "marks={'python': 50, 'c' :40, 'java' :30 }\n",
        "print(marks)\n",
        "# accessing elem from dictionary\n",
        "print(marks[\"python\"])\n",
        "print(marks[\"java\"])\n",
        "print(marks[\"c\"])\n",
        " \n",
        " \n",
        "\n",
        "\n",
        "\n",
        "# pop iteam is used to remove and return an arbitary item fro dictonary\n",
        "\n",
        "\n",
        "\n",
        "\n"
      ]
    },
    {
      "cell_type": "code",
      "source": [
        "square={1:1,2:4, 3:9, 4:16, 5:25}\n",
        "print(square)\n",
        "key=int(input(\"enter key to delete\"))\n",
        "del square[key]\n",
        "print(square)"
      ],
      "metadata": {
        "colab": {
          "base_uri": "https://localhost:8080/"
        },
        "id": "hd_g714r-REl",
        "outputId": "2286f96d-d69e-4b71-bb01-d074de2e4c41"
      },
      "execution_count": 3,
      "outputs": [
        {
          "output_type": "stream",
          "name": "stdout",
          "text": [
            "{1: 1, 2: 4, 3: 9, 4: 16, 5: 25}\n",
            "enter key to delete4\n",
            "{1: 1, 2: 4, 3: 9, 5: 25}\n"
          ]
        }
      ]
    },
    {
      "cell_type": "code",
      "source": [
        "students={1: \"SIKANDER\",2:\"SATYA\",3:\"HUSSIAN\"}\n",
        "courses={1:\"ÉMBEDDED\",2:\"DATA SCIENCE\",3:\"WEB DEVELPMENT\"}\n",
        "print('list of students')\n",
        "print(students)\n",
        "print(\"list of courses\")\n",
        "print(courses)\n",
        "students.clear()\n",
        "del courses\n",
        "print('list of students ')\n",
        "print(students)\n",
        "print(\"list of courses\")\n"
      ],
      "metadata": {
        "colab": {
          "base_uri": "https://localhost:8080/"
        },
        "id": "zS2XgUc2-hWm",
        "outputId": "ab23192c-0f43-4de2-ca3d-ba76ed276990"
      },
      "execution_count": 5,
      "outputs": [
        {
          "output_type": "stream",
          "name": "stdout",
          "text": [
            "list of students\n",
            "{1: 'SIKANDER', 2: 'SATYA', 3: 'HUSSIAN'}\n",
            "list of courses\n",
            "{1: 'ÉMBEDDED', 2: 'DATA SCIENCE', 3: 'WEB DEVELPMENT'}\n",
            "list of students \n",
            "{}\n",
            "list of courses\n"
          ]
        }
      ]
    }
  ]
}