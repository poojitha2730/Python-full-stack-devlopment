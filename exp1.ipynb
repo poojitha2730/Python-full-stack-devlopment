{
  "nbformat": 4,
  "nbformat_minor": 0,
  "metadata": {
    "colab": {
      "name": "Untitled0.ipynb",
      "provenance": [],
      "authorship_tag": "ABX9TyN3CXS64CQD/wdG/9nUtF0k",
      "include_colab_link": true
    },
    "kernelspec": {
      "name": "python3",
      "display_name": "Python 3"
    },
    "language_info": {
      "name": "python"
    }
  },
  "cells": [
    {
      "cell_type": "markdown",
      "metadata": {
        "id": "view-in-github",
        "colab_type": "text"
      },
      "source": [
        "<a href=\"https://colab.research.google.com/github/poojitha2730/Python-full-stack-devlopment/blob/main/exp1.ipynb\" target=\"_parent\"><img src=\"https://colab.research.google.com/assets/colab-badge.svg\" alt=\"Open In Colab\"/></a>"
      ]
    },
    {
      "cell_type": "code",
      "execution_count": 1,
      "metadata": {
        "colab": {
          "base_uri": "https://localhost:8080/"
        },
        "id": "L4aPXnBL9azv",
        "outputId": "6d1a1230-129c-4bd9-c107-cca3748d7701"
      },
      "outputs": [
        {
          "output_type": "stream",
          "name": "stdout",
          "text": [
            "New Delhi is the capital of India.\n",
            "Hindi is the most widely spoken language of India.\n",
            "India is a developing country.\n",
            "Washington, D.C. is the capital of USA.\n",
            "English is the primary language of USA.\n",
            "USA is a developed country.\n"
          ]
        }
      ],
      "source": [
        "class India():\n",
        "  def capital(self):\n",
        "    print(\"New Delhi is the capital of India.\")\n",
        "\n",
        "  def language(self):\n",
        "    print(\"Hindi is the most widely spoken language of India.\")\n",
        "\n",
        "  def type(self):\n",
        "    print(\"India is a developing country.\")\n",
        "\n",
        "class USA():\n",
        "  def capital(self):\n",
        "    print(\"Washington, D.C. is the capital of USA.\")\n",
        "\n",
        "  def language(self):\n",
        "    print(\"English is the primary language of USA.\")\n",
        "\n",
        "  def type(self):\n",
        "    print(\"USA is a developed country.\")\n",
        "\n",
        "obj_ind = India()\n",
        "obj_usa = USA()\n",
        "for country in (obj_ind, obj_usa):\n",
        "  country.capital()\n",
        "  country.language()\n",
        "  country.type()"
      ]
    }
  ]
}